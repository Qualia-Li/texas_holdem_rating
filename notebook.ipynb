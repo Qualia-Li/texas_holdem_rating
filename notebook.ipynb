{
 "cells": [
  {
   "cell_type": "code",
   "execution_count": 1,
   "metadata": {},
   "outputs": [
    {
     "name": "stdout",
     "output_type": "stream",
     "text": [
      "New player: Abby Deng\n",
      "New player: Chen Meng\n",
      "New player: Brian\n",
      "New player: Tom\n",
      "New player: Quanlai Li\n",
      "New player: Shu Zhou\n",
      "New player: Liy\n",
      "New player: Lucas Li\n",
      "New player: Yingjie Ma\n",
      "New player: Di An\n",
      "New player: Guxin Jin\n",
      "\n",
      "Money won: 236.00\n",
      "Money lost: 246.00\n",
      "\n",
      "1932.76\tDi An\n",
      "1801.56\tGuxin Jin\n",
      "1625.27\tLucas Li\n",
      "1612.52\tChen Meng\n",
      "1602.95\tShu Zhou\n"
     ]
    }
   ],
   "source": [
    "from rating import Game, print_top_k_rating, print_top_k_income\n",
    "\n",
    "# 2019-08-23\n",
    "Game({\"Guxin Jin\": 66.2,\n",
    "      \"Di An\": 95,\n",
    "      \"Lucas Li\": 27.5,\n",
    "      \"Brian\": -49,\n",
    "      \"Liy\": -40,\n",
    "      \"Tom\": -35,\n",
    "      \"Abby Deng\": -62,\n",
    "      \"Quanlai Li\": -40,\n",
    "      \"Shu Zhou\": 22.6,\n",
    "      \"Yingjie Ma\": -20,\n",
    "      \"Chen Meng\": 24.7})\n",
    "\n",
    "print_top_k_rating(5)"
   ]
  },
  {
   "cell_type": "code",
   "execution_count": 2,
   "metadata": {},
   "outputs": [
    {
     "name": "stdout",
     "output_type": "stream",
     "text": [
      "New player: Shengke Zhou\n",
      "New player: Po Choi\n",
      "\n",
      "Money won: 105.60\n",
      "Money lost: 105.80\n",
      "\n",
      "1756.31\tLucas Li\n",
      "1716.70\tDi An\n",
      "1691.63\tShu Zhou\n",
      "1687.65\tQuanlai Li\n",
      "1612.52\tChen Meng\n"
     ]
    }
   ],
   "source": [
    "# 2019-08-30\n",
    "Game({\"Shu Zhou\": 20,\n",
    "      \"Guxin Jin\": -33.5,\n",
    "      \"Shengke Zhou\": -31.8,\n",
    "      \"Quanlai Li\": 40,\n",
    "      \"Po Choi\": -20,\n",
    "      \"Abby Deng\": -13.9,\n",
    "      \"Yingjie Ma\": 17.6,\n",
    "      \"Di An\": 0,\n",
    "      \"Tom\": -6.6,\n",
    "      \"Lucas Li\": 28})\n",
    "\n",
    "print_top_k_rating(5)"
   ]
  },
  {
   "cell_type": "code",
   "execution_count": 3,
   "metadata": {},
   "outputs": [
    {
     "name": "stdout",
     "output_type": "stream",
     "text": [
      "New player: Xue Zhou\n",
      "New player: Peter Zhou\n",
      "New player: Jianfeng Guo\n",
      "New player: Lei Qi\n",
      "\n",
      "Money won: 182.60\n",
      "Money lost: 172.60\n",
      "\n",
      "1813.09\tShu Zhou\n",
      "1687.65\tQuanlai Li\n",
      "1685.73\tJianfeng Guo\n",
      "1676.15\tLei Qi\n",
      "1652.94\tDi An\n"
     ]
    }
   ],
   "source": [
    "# 2019-09-06\n",
    "Game({\n",
    "    \"Guxin Jin\": -51.6,\n",
    "    \"Lucas Li\": -80,\n",
    "    \"Chen Meng\": -41,\n",
    "    \"Shu Zhou\": 89.6,\n",
    "    \"Jianfeng Guo\": 28.8,\n",
    "    \"Xue Zhou\": 17,\n",
    "    \"Shengke Zhou\": 9.4,\n",
    "    \"Lei Qi\": 26.8,\n",
    "    \"Peter Zhou\": 11,\n",
    "    \"Di An\": 0    \n",
    "})\n",
    "\n",
    "print_top_k_rating(5)"
   ]
  },
  {
   "cell_type": "code",
   "execution_count": 4,
   "metadata": {},
   "outputs": [
    {
     "name": "stdout",
     "output_type": "stream",
     "text": [
      "New player: ZYR\n",
      "New player: Xueqing Zhang\n",
      "New player: Chaofeng Zhou\n",
      "\n",
      "Money won: 104.10\n",
      "Money lost: 124.00\n",
      "\n",
      "1688.82\tShu Zhou\n",
      "1676.42\tDi An\n",
      "1629.19\tXue Zhou\n",
      "1626.93\tLucas Li\n",
      "1626.38\tAbby Deng\n"
     ]
    }
   ],
   "source": [
    "# 2019-09-13\n",
    "Game({\n",
    "    \"Abby Deng\": 48.4,\n",
    "    \"Lucas Li\": 28.2,\n",
    "    \"Di An\": 17.2,\n",
    "    \"Guxin Jin\": 5.8,\n",
    "    \"Jianfeng Guo\": -40,\n",
    "    \"Shu Zhou\": -12.6,\n",
    "    \"Xueqing Zhang\": -6.2,\n",
    "    \"Quanlai Li\": -26.1,\n",
    "    \"Chaofeng Zhou\": -20,\n",
    "    \"Lei Qi\": -12.6,\n",
    "    \"Shengke Zhou\": -6.5,\n",
    "    \"ZYR\": 4.5\n",
    "})\n",
    "\n",
    "print_top_k_rating(5)"
   ]
  },
  {
   "cell_type": "code",
   "execution_count": 5,
   "metadata": {},
   "outputs": [
    {
     "name": "stdout",
     "output_type": "stream",
     "text": [
      "New player: William Tang\n",
      "New player: Yuan Zhuang\n",
      "New player: Ellen\n",
      "New player: Xiner\n",
      "\n",
      "Money won: 259.40\n",
      "Money lost: 230.40\n",
      "\n",
      "1688.82\tShu Zhou\n",
      "1676.42\tDi An\n",
      "1662.31\tChen Meng\n",
      "1626.38\tAbby Deng\n",
      "1620.08\tYingjie Ma\n"
     ]
    }
   ],
   "source": [
    "# 2019-09-20\n",
    "Game({\n",
    "    \"Tom\": 49,\n",
    "    \"William Tang\": -22,\n",
    "    \"Ellen\": -40,\n",
    "    \"Yuan Zhuang\": -4,\n",
    "    \"Quanlai Li\": -80,\n",
    "    \"Xiner\": -9.4,\n",
    "    \"Chen Meng\": 89.6,\n",
    "    \"Chaofeng Zhou\": 55.8,\n",
    "    \"Yingjie Ma\": 36.8,\n",
    "    \"Guxin Jin\": 28.2,\n",
    "    \"Xue Zhou\": -55,\n",
    "    \"Lucas Li\": -20\n",
    "})\n",
    "\n",
    "print_top_k_rating(5)"
   ]
  },
  {
   "cell_type": "code",
   "execution_count": 6,
   "metadata": {},
   "outputs": [
    {
     "name": "stdout",
     "output_type": "stream",
     "text": [
      "New player: Lin Zhou\n",
      "New player: Di Zhu\n",
      "New player: Roc\n",
      "\n",
      "Money won: 262.00\n",
      "Money lost: 286.30\n",
      "\n",
      "1698.43\tChaofeng Zhou\n",
      "1688.82\tShu Zhou\n",
      "1662.31\tChen Meng\n",
      "1626.38\tAbby Deng\n",
      "1612.63\tDi An\n"
     ]
    }
   ],
   "source": [
    "# 2019-09-27\n",
    "Game({\n",
    "    \"Shengke Zhou\": 29.4,\n",
    "    \"Tom\": -23.6,\n",
    "    \"Di Zhu\": -17,\n",
    "    \"Di An\": -42.4,\n",
    "    \"Yingjie Ma\": -41.8,\n",
    "    \"Xue Zhou\": -2.8,\n",
    "    \"Roc\": -80,\n",
    "    \"Lucas Li\": -78.7,\n",
    "    \"Guxin Jin\": 9,\n",
    "    \"Chaofeng Zhou\": 200.4,\n",
    "    \"Lin Zhou\": 23.2\n",
    "})\n",
    "\n",
    "print_top_k_rating(5)"
   ]
  },
  {
   "cell_type": "code",
   "execution_count": 7,
   "metadata": {},
   "outputs": [
    {
     "name": "stdout",
     "output_type": "stream",
     "text": [
      "New player: Gilbert\n",
      "New player: Xin Qiu\n",
      "\n",
      "Money won: 425.00\n",
      "Money lost: 420.20\n",
      "\n",
      "1739.15\tGilbert\n",
      "1699.75\tChen Meng\n",
      "1648.75\tXin Qiu\n",
      "1644.69\tShengke Zhou\n",
      "1640.70\tShu Zhou\n"
     ]
    }
   ],
   "source": [
    "# 2019-10-04\n",
    "shengke_zhou = \"Shengke Zhou\"\n",
    "chaofeng_zhou = \"Chaofeng Zhou\"\n",
    "tom = \"Tom\"\n",
    "jianfeng_guo = \"Jianfeng Guo\"\n",
    "di_an = \"Di An\"\n",
    "yuan_zhuang = \"Yuan Zhuang\"\n",
    "xin_qiu = \"Xin Qiu\"\n",
    "chen_meng = \"Chen Meng\"\n",
    "lucas_li = \"Lucas Li\"\n",
    "guxin_jin = \"Guxin Jin\"\n",
    "yingjie_ma = \"Yingjie Ma\"\n",
    "shu_zhou = \"Shu Zhou\"\n",
    "peter_zhou = \"Peter Zhou\"\n",
    "xiner = \"Xiner\"\n",
    "gilbert = \"Gilbert\"\n",
    "quanlai_li = \"Quanlai Li\"\n",
    "\n",
    "Game({\n",
    "    shengke_zhou: 147.8,\n",
    "    chaofeng_zhou: -120,\n",
    "    tom: -54.8,\n",
    "    jianfeng_guo: 9.8,\n",
    "    di_an: -120,\n",
    "    yuan_zhuang: 5.2,\n",
    "    xin_qiu: 43.8,\n",
    "    chen_meng: 78.2,\n",
    "    lucas_li: -80,\n",
    "    guxin_jin: -5.6,\n",
    "    yingjie_ma: -14.6,\n",
    "    shu_zhou: 6,\n",
    "    peter_zhou: 12.4,\n",
    "    xiner: 41.8,\n",
    "    gilbert: 80,\n",
    "    quanlai_li: -25.2\n",
    "})\n",
    "\n",
    "print_top_k_rating(5)"
   ]
  },
  {
   "cell_type": "code",
   "execution_count": 8,
   "metadata": {},
   "outputs": [
    {
     "name": "stdout",
     "output_type": "stream",
     "text": [
      "New player: Ellen Wei\n",
      "New player: Affab Hafreez\n",
      "New player: Samuel\n",
      "New player: Zhongtian Jiang\n",
      "\n",
      "Money won: 338.20\n",
      "Money lost: 332.60\n",
      "\n",
      "1744.26\tChen Meng\n",
      "1739.15\tGilbert\n",
      "1725.17\tShengke Zhou\n",
      "1667.00\tShu Zhou\n",
      "1626.38\tAbby Deng\n"
     ]
    }
   ],
   "source": [
    "# 2019-10-11\n",
    "\n",
    "lei_qi = \"Lei Qi\"\n",
    "xue_zhou = \"Xue Zhou\"\n",
    "zhongtian_jiang = \"Zhongtian Jiang\"\n",
    "william_tang = \"William Tang\"\n",
    "ellen_wei = \"Ellen Wei\"\n",
    "\n",
    "Game({\n",
    "    lei_qi: -27,\n",
    "    shengke_zhou: 119.2,\n",
    "    \"Affab Hafreez\": -18.2,\n",
    "    quanlai_li: -76.2,\n",
    "    zhongtian_jiang: -61.2,\n",
    "    guxin_jin: 8.2,\n",
    "    shu_zhou: 58.2,\n",
    "    xin_qiu: 0,\n",
    "    lucas_li: -5.4,\n",
    "    chen_meng: 89.4,\n",
    "    william_tang: 48,\n",
    "    yingjie_ma: -4.2,\n",
    "    xue_zhou: -71,\n",
    "    chaofeng_zhou: -39.6,\n",
    "    \"Samuel\": -29.8,\n",
    "    tom: 3.8,\n",
    "    ellen_wei: 11.4\n",
    "})\n",
    "\n",
    "print_top_k_rating(5)"
   ]
  },
  {
   "cell_type": "code",
   "execution_count": null,
   "metadata": {},
   "outputs": [],
   "source": []
  }
 ],
 "metadata": {
  "kernelspec": {
   "display_name": "Python 2",
   "language": "python",
   "name": "python2"
  },
  "language_info": {
   "codemirror_mode": {
    "name": "ipython",
    "version": 2
   },
   "file_extension": ".py",
   "mimetype": "text/x-python",
   "name": "python",
   "nbconvert_exporter": "python",
   "pygments_lexer": "ipython2",
   "version": "2.7.16"
  }
 },
 "nbformat": 4,
 "nbformat_minor": 2
}
