{
 "cells": [
  {
   "cell_type": "code",
   "execution_count": 2,
   "metadata": {},
   "outputs": [
    {
     "name": "stdout",
     "output_type": "stream",
     "text": [
      "3211.69\tAndi\n",
      "2548.17\tGuxin Jin\n",
      "1851.66\tLucas Li\n",
      "1809.75\tChen Meng\n",
      "1778.70\tShu Zhang\n"
     ]
    }
   ],
   "source": [
    "from rating import Game, print_top_k_rating\n",
    "\n",
    "# 2019-08-23\n",
    "Game({\"Andi\": 95,\n",
    "      \"Guxin Jin\": 66.2,\n",
    "      \"Lucas Li\": 27.5,\n",
    "      \"Brian\": -49,\n",
    "      \"Tom\": -35,\n",
    "      \"Liy\": -40,\n",
    "      \"Abby\": -62,\n",
    "      \"Quanlai Li\": -40,\n",
    "      \"Shu Zhang\": 22.6,\n",
    "      \"Yingjie Ma\": -20,\n",
    "      \"Chen Meng\": 24.7})\n",
    "print_top_k_rating(5)\n"
   ]
  },
  {
   "cell_type": "code",
   "execution_count": null,
   "metadata": {},
   "outputs": [],
   "source": []
  }
 ],
 "metadata": {
  "kernelspec": {
   "display_name": "Python 2",
   "language": "python",
   "name": "python2"
  },
  "language_info": {
   "codemirror_mode": {
    "name": "ipython",
    "version": 2
   },
   "file_extension": ".py",
   "mimetype": "text/x-python",
   "name": "python",
   "nbconvert_exporter": "python",
   "pygments_lexer": "ipython2",
   "version": "2.7.16"
  }
 },
 "nbformat": 4,
 "nbformat_minor": 2
}
