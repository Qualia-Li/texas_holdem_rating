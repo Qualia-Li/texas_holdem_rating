{
 "cells": [
  {
   "cell_type": "code",
   "execution_count": 1,
   "metadata": {},
   "outputs": [
    {
     "data": {
      "text/plain": [
       "<rating.Game instance at 0x10d1c4a28>"
      ]
     },
     "execution_count": 1,
     "metadata": {},
     "output_type": "execute_result"
    }
   ],
   "source": [
    "from rating import Game, print_top_k_rating, print_top_k_income\n",
    "\n",
    "# 2019-08-23\n",
    "Game({\"Andi\": 95,\n",
    "      \"Guxin Jin\": 66.2,\n",
    "      \"Lucas Li\": 27.5,\n",
    "      \"Brian\": -49,\n",
    "      \"Tom\": -35,\n",
    "      \"Liy\": -40,\n",
    "      \"Abby Deng\": -62,\n",
    "      \"Quanlai Li\": -40,\n",
    "      \"Shu Zhou\": 22.6,\n",
    "      \"Yingjie Ma\": -20,\n",
    "      \"Chen Meng\": 24.7})\n",
    "\n",
    "# 2019-08-30\n",
    "Game({\"Shu Zhou\": 20,\n",
    "      \"Andi\": 0,\n",
    "      \"Guxin Jin\": -33.5,\n",
    "      \"Shengke Zhou\": -31.8,\n",
    "      \"Quanlai Li\": 40,\n",
    "      \"Po Choi\": -20,\n",
    "      \"Abby Deng\": -13.9,\n",
    "      \"Yingjie Ma\": 17.6,\n",
    "      \"Tom\": -6.6,\n",
    "      \"Lucas Li\": 28})"
   ]
  },
  {
   "cell_type": "code",
   "execution_count": 2,
   "metadata": {},
   "outputs": [
    {
     "name": "stdout",
     "output_type": "stream",
     "text": [
      "1703.73\tAndi\n",
      "1641.17\tLucas Li\n",
      "1609.57\tShu Zhou\n",
      "1606.89\tChen Meng\n",
      "1552.85\tGuxin Jin\n"
     ]
    }
   ],
   "source": [
    "print_top_k_rating(5)"
   ]
  },
  {
   "cell_type": "code",
   "execution_count": 3,
   "metadata": {},
   "outputs": [
    {
     "name": "stdout",
     "output_type": "stream",
     "text": [
      "95\tAndi\n",
      "55.5\tLucas Li\n",
      "42.6\tShu Zhou\n",
      "32.7\tGuxin Jin\n",
      "24.7\tChen Meng\n"
     ]
    }
   ],
   "source": [
    "print_top_k_income(5)"
   ]
  },
  {
   "cell_type": "code",
   "execution_count": null,
   "metadata": {},
   "outputs": [],
   "source": []
  }
 ],
 "metadata": {
  "kernelspec": {
   "display_name": "Python 2",
   "language": "python",
   "name": "python2"
  },
  "language_info": {
   "codemirror_mode": {
    "name": "ipython",
    "version": 2
   },
   "file_extension": ".py",
   "mimetype": "text/x-python",
   "name": "python",
   "nbconvert_exporter": "python",
   "pygments_lexer": "ipython2",
   "version": "2.7.16"
  }
 },
 "nbformat": 4,
 "nbformat_minor": 2
}
