{
 "cells": [
  {
   "cell_type": "code",
   "execution_count": 1,
   "metadata": {},
   "outputs": [
    {
     "name": "stdout",
     "output_type": "stream",
     "text": [
      "New player: Abby Deng\n",
      "New player: Chen Meng\n",
      "New player: Brian\n",
      "New player: Tom\n",
      "New player: Quanlai Li\n",
      "New player: Shu Zhou\n",
      "New player: Liy\n",
      "New player: Lucas Li\n",
      "New player: Yingjie Ma\n",
      "New player: Di An\n",
      "New player: Guxin Jin\n",
      "\n",
      "Money won: 236.00\n",
      "Money lost: 246.00\n",
      "\n",
      "Rating\tSigma\tName\n",
      "2198.21\t342.22\tDi An\n",
      "1960.54\t302.49\tGuxin Jin\n",
      "1808.65\t288.99\tLucas Li\n",
      "1686.18\t282.60\tChen Meng\n",
      "1576.55\t279.43\tShu Zhou\n"
     ]
    }
   ],
   "source": [
    "from rating import Game, print_top_k_rating, print_top_k_score\n",
    "\n",
    "# 2019-08-23\n",
    "Game({\"Guxin Jin\": 66.2,\n",
    "      \"Di An\": 95,\n",
    "      \"Lucas Li\": 27.5,\n",
    "      \"Brian\": -49,\n",
    "      \"Liy\": -40,\n",
    "      \"Tom\": -35,\n",
    "      \"Abby Deng\": -62,\n",
    "      \"Quanlai Li\": -40,\n",
    "      \"Shu Zhou\": 22.6,\n",
    "      \"Yingjie Ma\": -20,\n",
    "      \"Chen Meng\": 24.7})\n",
    "\n",
    "print_top_k_rating(5)"
   ]
  },
  {
   "cell_type": "code",
   "execution_count": 2,
   "metadata": {},
   "outputs": [
    {
     "name": "stdout",
     "output_type": "stream",
     "text": [
      "New player: Shengke Zhou\n",
      "New player: Po Choi\n",
      "\n",
      "Money won: 105.60\n",
      "Money lost: 105.80\n",
      "\n",
      "Rating\tSigma\tName\n",
      "1870.29\t215.09\tLucas Li\n",
      "1790.87\t227.69\tDi An\n",
      "1708.29\t219.80\tQuanlai Li\n",
      "1690.94\t207.70\tShu Zhou\n",
      "1686.18\t282.60\tChen Meng (absent: 1)\n"
     ]
    }
   ],
   "source": [
    "# 2019-08-30\n",
    "Game({\"Shu Zhou\": 20,\n",
    "      \"Guxin Jin\": -33.5,\n",
    "      \"Shengke Zhou\": -31.8,\n",
    "      \"Quanlai Li\": 40,\n",
    "      \"Po Choi\": -20,\n",
    "      \"Abby Deng\": -13.9,\n",
    "      \"Yingjie Ma\": 17.6,\n",
    "      \"Di An\": 0,\n",
    "      \"Tom\": -6.6,\n",
    "      \"Lucas Li\": 28})\n",
    "\n",
    "print_top_k_rating(5)"
   ]
  },
  {
   "cell_type": "code",
   "execution_count": 3,
   "metadata": {},
   "outputs": [
    {
     "name": "stdout",
     "output_type": "stream",
     "text": [
      "New player: Xue Zhou\n",
      "New player: Peter Zhou\n",
      "New player: Jianfeng Guo\n",
      "New player: Lei Qi\n",
      "\n",
      "Money won: 182.60\n",
      "Money lost: 172.60\n",
      "\n",
      "Rating\tSigma\tName\n",
      "1920.39\t272.50\tJianfeng Guo\n",
      "1899.40\t182.17\tShu Zhou\n",
      "1811.05\t266.30\tLei Qi\n",
      "1717.55\t261.71\tXue Zhou\n",
      "1708.29\t219.80\tQuanlai Li (absent: 1)\n"
     ]
    }
   ],
   "source": [
    "# 2019-09-06\n",
    "Game({\n",
    "    \"Guxin Jin\": -51.6,\n",
    "    \"Lucas Li\": -80,\n",
    "    \"Chen Meng\": -41,\n",
    "    \"Shu Zhou\": 89.6,\n",
    "    \"Jianfeng Guo\": 28.8,\n",
    "    \"Xue Zhou\": 17,\n",
    "    \"Shengke Zhou\": 9.4,\n",
    "    \"Lei Qi\": 26.8,\n",
    "    \"Peter Zhou\": 11,\n",
    "    \"Di An\": 0    \n",
    "})\n",
    "\n",
    "print_top_k_rating(5)"
   ]
  },
  {
   "cell_type": "code",
   "execution_count": 4,
   "metadata": {},
   "outputs": [
    {
     "name": "stdout",
     "output_type": "stream",
     "text": [
      "New player: ZYR\n",
      "New player: Xueqing Zhang\n",
      "New player: Chaofeng Zhou\n",
      "\n",
      "Money won: 104.10\n",
      "Money lost: 124.00\n",
      "\n",
      "Rating\tSigma\tName\n",
      "1746.52\t153.14\tShu Zhou\n",
      "1717.55\t261.71\tXue Zhou (absent: 1)\n",
      "1694.26\t153.43\tDi An\n",
      "1662.77\t154.31\tLucas Li\n",
      "1632.88\t257.93\tPeter Zhou (absent: 1)\n"
     ]
    }
   ],
   "source": [
    "# 2019-09-13\n",
    "Game({\n",
    "    \"Abby Deng\": 48.4,\n",
    "    \"Lucas Li\": 28.2,\n",
    "    \"Di An\": 17.2,\n",
    "    \"Guxin Jin\": 5.8,\n",
    "    \"Jianfeng Guo\": -40,\n",
    "    \"Shu Zhou\": -12.6,\n",
    "    \"Xueqing Zhang\": -6.2,\n",
    "    \"Quanlai Li\": -26.1,\n",
    "    \"Chaofeng Zhou\": -20,\n",
    "    \"Lei Qi\": -12.6,\n",
    "    \"Shengke Zhou\": -6.5,\n",
    "    \"ZYR\": 4.5\n",
    "})\n",
    "\n",
    "print_top_k_rating(5)"
   ]
  },
  {
   "cell_type": "code",
   "execution_count": 5,
   "metadata": {},
   "outputs": [
    {
     "name": "stdout",
     "output_type": "stream",
     "text": [
      "New player: Ellen Wei\n",
      "New player: William Tang\n",
      "New player: Yuan Zhuang\n",
      "New player: Xiner\n",
      "\n",
      "Money won: 259.40\n",
      "Money lost: 230.40\n",
      "\n",
      "Rating\tSigma\tName\n",
      "1746.52\t153.14\tShu Zhou (absent: 1)\n",
      "1726.19\t176.30\tChen Meng\n",
      "1694.26\t153.43\tDi An (absent: 1)\n",
      "1632.88\t257.93\tPeter Zhou (absent: 2)\n",
      "1623.79\t193.31\tLei Qi (absent: 1)\n"
     ]
    }
   ],
   "source": [
    "# 2019-09-20\n",
    "Game({\n",
    "    \"Tom\": 49,\n",
    "    \"William Tang\": -22,\n",
    "    \"Ellen Wei\": -40,\n",
    "    \"Yuan Zhuang\": -4,\n",
    "    \"Quanlai Li\": -80,\n",
    "    \"Xiner\": -9.4,\n",
    "    \"Chen Meng\": 89.6,\n",
    "    \"Chaofeng Zhou\": 55.8,\n",
    "    \"Yingjie Ma\": 36.8,\n",
    "    \"Guxin Jin\": 28.2,\n",
    "    \"Xue Zhou\": -55,\n",
    "    \"Lucas Li\": -20\n",
    "})\n",
    "\n",
    "print_top_k_rating(5)"
   ]
  },
  {
   "cell_type": "code",
   "execution_count": 6,
   "metadata": {},
   "outputs": [
    {
     "name": "stdout",
     "output_type": "stream",
     "text": [
      "New player: Lin Zhou\n",
      "New player: Di Zhu\n",
      "New player: Roc\n",
      "\n",
      "Money won: 262.00\n",
      "Money lost: 286.30\n",
      "\n",
      "Rating\tSigma\tName\n",
      "1781.94\t167.13\tChaofeng Zhou\n",
      "1746.52\t153.14\tShu Zhou (absent: 2)\n",
      "1726.19\t176.30\tChen Meng (absent: 1)\n",
      "1715.93\t248.80\tLin Zhou\n",
      "1632.88\t257.93\tPeter Zhou (absent: 3)\n"
     ]
    }
   ],
   "source": [
    "# 2019-09-27\n",
    "Game({\n",
    "    \"Shengke Zhou\": 29.4,\n",
    "    \"Tom\": -23.6,\n",
    "    \"Di Zhu\": -17,\n",
    "    \"Di An\": -42.4,\n",
    "    \"Yingjie Ma\": -41.8,\n",
    "    \"Xue Zhou\": -2.8,\n",
    "    \"Roc\": -80,\n",
    "    \"Lucas Li\": -78.7,\n",
    "    \"Guxin Jin\": 9,\n",
    "    \"Chaofeng Zhou\": 200.4,\n",
    "    \"Lin Zhou\": 23.2\n",
    "})\n",
    "\n",
    "print_top_k_rating(5)"
   ]
  },
  {
   "cell_type": "code",
   "execution_count": 7,
   "metadata": {},
   "outputs": [
    {
     "name": "stdout",
     "output_type": "stream",
     "text": [
      "New player: Xiner Zhang\n",
      "New player: Gilbert\n",
      "New player: Xin Qiu\n",
      "\n",
      "Money won: 425.00\n",
      "Money lost: 420.20\n",
      "\n",
      "Rating\tSigma\tName\n",
      "1955.38\t252.89\tGilbert\n",
      "1814.97\t245.03\tXin Qiu\n",
      "1807.56\t150.61\tChen Meng\n",
      "1758.52\t242.95\tXiner Zhang\n",
      "1720.79\t131.67\tShengke Zhou\n"
     ]
    }
   ],
   "source": [
    "# 2019-10-04\n",
    "shengke_zhou = \"Shengke Zhou\"\n",
    "chaofeng_zhou = \"Chaofeng Zhou\"\n",
    "tom = \"Tom\"\n",
    "jianfeng_guo = \"Jianfeng Guo\"\n",
    "di_an = \"Di An\"\n",
    "yuan_zhuang = \"Yuan Zhuang\"\n",
    "xin_qiu = \"Xin Qiu\"\n",
    "chen_meng = \"Chen Meng\"\n",
    "lucas_li = \"Lucas Li\"\n",
    "guxin_jin = \"Guxin Jin\"\n",
    "yingjie_ma = \"Yingjie Ma\"\n",
    "shu_zhou = \"Shu Zhou\"\n",
    "peter_zhou = \"Peter Zhou\"\n",
    "xiner_zhang = \"Xiner Zhang\"\n",
    "gilbert = \"Gilbert\"\n",
    "quanlai_li = \"Quanlai Li\"\n",
    "\n",
    "Game({\n",
    "    shengke_zhou: 147.8,\n",
    "    chaofeng_zhou: -120,\n",
    "    tom: -54.8,\n",
    "    jianfeng_guo: 9.8,\n",
    "    di_an: -120,\n",
    "    yuan_zhuang: 5.2,\n",
    "    xin_qiu: 43.8,\n",
    "    chen_meng: 78.2,\n",
    "    lucas_li: -80,\n",
    "    guxin_jin: -5.6,\n",
    "    yingjie_ma: -14.6,\n",
    "    shu_zhou: 6,\n",
    "    peter_zhou: 12.4,\n",
    "    xiner_zhang: 41.8,\n",
    "    gilbert: 80,\n",
    "    quanlai_li: -25.2\n",
    "})\n",
    "\n",
    "print_top_k_rating(5)"
   ]
  },
  {
   "cell_type": "code",
   "execution_count": 8,
   "metadata": {},
   "outputs": [
    {
     "name": "stdout",
     "output_type": "stream",
     "text": [
      "New player: Affab Hafreez\n",
      "New player: Samuel\n",
      "New player: Zhongtian Jiang\n",
      "\n",
      "Money won: 338.20\n",
      "Money lost: 332.60\n",
      "\n",
      "Rating\tSigma\tName\n",
      "1955.38\t252.89\tGilbert (absent: 1)\n",
      "1858.49\t133.98\tChen Meng\n",
      "1814.52\t122.15\tShengke Zhou\n",
      "1758.52\t242.95\tXiner Zhang (absent: 1)\n",
      "1755.47\t120.87\tShu Zhou\n",
      "1715.93\t248.80\tLin Zhou (absent: 2)\n",
      "1698.07\t181.38\tXin Qiu\n",
      "1697.10\t188.58\tPeter Zhou (absent: 1)\n",
      "1577.53\t184.97\tWilliam Tang\n",
      "1573.87\t166.86\tJianfeng Guo (absent: 1)\n"
     ]
    }
   ],
   "source": [
    "# 2019-10-11\n",
    "\n",
    "lei_qi = \"Lei Qi\"\n",
    "xue_zhou = \"Xue Zhou\"\n",
    "zhongtian_jiang = \"Zhongtian Jiang\"\n",
    "william_tang = \"William Tang\"\n",
    "ellen_wei = \"Ellen Wei\"\n",
    "\n",
    "Game({\n",
    "    lei_qi: -27,\n",
    "    shengke_zhou: 119.2,\n",
    "    \"Affab Hafreez\": -18.2,\n",
    "    quanlai_li: -76.2,\n",
    "    zhongtian_jiang: -61.2,\n",
    "    guxin_jin: 8.2,\n",
    "    shu_zhou: 58.2,\n",
    "    xin_qiu: 0,\n",
    "    lucas_li: -5.4,\n",
    "    chen_meng: 89.4,\n",
    "    william_tang: 48,\n",
    "    yingjie_ma: -4.2,\n",
    "    xue_zhou: -71,\n",
    "    chaofeng_zhou: -39.6,\n",
    "    \"Samuel\": -29.8,\n",
    "    tom: 3.8,\n",
    "    ellen_wei: 11.4\n",
    "})\n",
    "\n",
    "print_top_k_rating(10)"
   ]
  },
  {
   "cell_type": "code",
   "execution_count": 9,
   "metadata": {},
   "outputs": [
    {
     "name": "stdout",
     "output_type": "stream",
     "text": [
      "New player: Yunke Tang\n",
      "New player: Ziru Liu\n",
      "New player: Yi Mao\n",
      "\n",
      "Money won: 317.90\n",
      "Money lost: 334.90\n",
      "\n",
      "Rating\tSigma\tName\n",
      "1955.38\t252.89\tGilbert (absent: 2)\n",
      "1798.46\t111.43\tShengke Zhou\n",
      "1795.70\t120.12\tChen Meng\n",
      "1758.52\t242.95\tXiner Zhang (absent: 2)\n",
      "1715.93\t248.80\tLin Zhou (absent: 3)\n",
      "1697.10\t188.58\tPeter Zhou (absent: 2)\n",
      "1691.50\t150.57\tXin Qiu\n",
      "1653.97\t151.81\tYuan Zhuang\n",
      "1635.34\t111.71\tShu Zhou\n",
      "1609.87\t97.63\tGuxin Jin\n"
     ]
    }
   ],
   "source": [
    "# 2019-10-18\n",
    "\n",
    "di_an = \"Di An\"\n",
    "yunke_tang = \"Yunke Tang\"\n",
    "ziru_liu = \"Ziru Liu\"\n",
    "\n",
    "Game({\n",
    "    \"Yi Mao\": -20,\n",
    "    shu_zhou: -69,\n",
    "    shengke_zhou: 29.2,\n",
    "    chaofeng_zhou: 56,\n",
    "    xin_qiu: 15.2,\n",
    "    xue_zhou: -29.8,\n",
    "    guxin_jin: 64.1,\n",
    "    ziru_liu: -120,\n",
    "    chen_meng: -5.6,\n",
    "    yuan_zhuang: 63.2,\n",
    "    di_an: -40,\n",
    "    quanlai_li: -22.8,\n",
    "    tom: 1,\n",
    "    yingjie_ma: -14.4,\n",
    "    yunke_tang: -13.3,\n",
    "    lucas_li: 89.2\n",
    "})\n",
    "\n",
    "print_top_k_rating(10)"
   ]
  },
  {
   "cell_type": "code",
   "execution_count": 10,
   "metadata": {},
   "outputs": [
    {
     "name": "stdout",
     "output_type": "stream",
     "text": [
      "New player: David\n",
      "\n",
      "Money won: 447.40\n",
      "Money lost: 440.60\n",
      "\n",
      "Rating\tSigma\tName\n",
      "1844.28\t184.23\tGilbert\n",
      "1834.13\t110.80\tChen Meng\n",
      "1806.04\t103.22\tShengke Zhou\n",
      "1747.90\t147.25\tJianfeng Guo\n",
      "1717.27\t131.61\tXin Qiu\n",
      "1697.10\t188.58\tPeter Zhou (absent: 3)\n",
      "1646.72\t132.15\tYuan Zhuang\n",
      "1625.26\t103.21\tShu Zhou\n",
      "1598.02\t91.86\tGuxin Jin\n",
      "1577.53\t184.97\tWilliam Tang (absent: 2)\n"
     ]
    }
   ],
   "source": [
    "# 2019-10-25\n",
    "\n",
    "Game({\n",
    "    lucas_li: -40,\n",
    "    \"David\": -40,\n",
    "    chaofeng_zhou: -64.8,\n",
    "    yuan_zhuang: 5,\n",
    "    tom: 24,\n",
    "    zhongtian_jiang: -43,\n",
    "    \"Samuel\": -25,\n",
    "    di_an: -87,\n",
    "    xiner_zhang: -80,\n",
    "    gilbert: 30,\n",
    "    xin_qiu: 32.4,\n",
    "    jianfeng_guo: 132,\n",
    "    quanlai_li: -41.2,\n",
    "    guxin_jin: -10,\n",
    "    shu_zhou: -9.6,\n",
    "    xue_zhou: 67.2,\n",
    "    shengke_zhou: 51.8,\n",
    "    chen_meng: 105,\n",
    "}) \n",
    "\n",
    "print_top_k_rating(10)"
   ]
  },
  {
   "cell_type": "code",
   "execution_count": 11,
   "metadata": {},
   "outputs": [
    {
     "name": "stdout",
     "output_type": "stream",
     "text": [
      "New player: George\n",
      "\n",
      "Money won: 248.20\n",
      "Money lost: 247.80\n",
      "\n",
      "Rating\tSigma\tName\n",
      "1844.28\t184.23\tGilbert (absent: 1)\n",
      "1834.13\t110.80\tChen Meng (absent: 1)\n",
      "1820.23\t136.24\tJianfeng Guo\n",
      "1806.04\t103.22\tShengke Zhou (absent: 1)\n",
      "1693.29\t119.70\tXin Qiu\n",
      "1646.72\t132.15\tYuan Zhuang (absent: 1)\n",
      "1625.26\t103.21\tShu Zhou (absent: 1)\n",
      "1598.02\t91.86\tGuxin Jin (absent: 1)\n",
      "1577.53\t184.97\tWilliam Tang (absent: 3)\n",
      "1556.48\t100.86\tChaofeng Zhou\n"
     ]
    }
   ],
   "source": [
    "# 2019-10-31\n",
    "\n",
    "Game({\n",
    "    jianfeng_guo: 98.8,\n",
    "    tom: 0,\n",
    "    lucas_li: 38.4,\n",
    "    chaofeng_zhou: 94.8,\n",
    "    zhongtian_jiang: -137,\n",
    "    ellen_wei: -2.8,\n",
    "    \"George\": -40,\n",
    "    xin_qiu: 16.2,\n",
    "    quanlai_li: -68\n",
    "})\n",
    "\n",
    "print_top_k_rating(10)"
   ]
  },
  {
   "cell_type": "code",
   "execution_count": 12,
   "metadata": {},
   "outputs": [
    {
     "name": "stdout",
     "output_type": "stream",
     "text": [
      "\n",
      "Gain\tAvg\tName\n",
      "348.50\t43.56\tShengke Zhou\n",
      "340.30\t48.61\tChen Meng\n",
      "229.40\t45.88\tJianfeng Guo\n",
      "162.60\t20.32\tChaofeng Zhou\n",
      "110.00\t55.00\tGilbert\n",
      "107.60\t21.52\tXin Qiu\n",
      "105.20\t13.15\tShu Zhou\n",
      "80.80\t8.08\tGuxin Jin\n",
      "69.40\t17.35\tYuan Zhuang\n",
      "26.00\t13.00\tWilliam Tang\n"
     ]
    }
   ],
   "source": [
    "print_top_k_score(10)"
   ]
  },
  {
   "cell_type": "code",
   "execution_count": null,
   "metadata": {},
   "outputs": [],
   "source": []
  }
 ],
 "metadata": {
  "kernelspec": {
   "display_name": "Python 2",
   "language": "python",
   "name": "python2"
  },
  "language_info": {
   "codemirror_mode": {
    "name": "ipython",
    "version": 2
   },
   "file_extension": ".py",
   "mimetype": "text/x-python",
   "name": "python",
   "nbconvert_exporter": "python",
   "pygments_lexer": "ipython2",
   "version": "2.7.16"
  }
 },
 "nbformat": 4,
 "nbformat_minor": 2
}
