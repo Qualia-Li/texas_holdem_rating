{
 "cells": [
  {
   "cell_type": "code",
   "execution_count": 1,
   "metadata": {},
   "outputs": [
    {
     "name": "stdout",
     "output_type": "stream",
     "text": [
      "New player: Abby Deng\n",
      "New player: Chen Meng\n",
      "New player: Brian\n",
      "New player: Tom\n",
      "New player: Quanlai Li\n",
      "New player: Shu Zhou\n",
      "New player: Liy\n",
      "New player: Lucas Li\n",
      "New player: Yingjie Ma\n",
      "New player: Di An\n",
      "New player: Guxin Jin\n",
      "[('Abby Deng', 1.775), ('Chen Meng', 0.69125), ('Brian', 1.6125), ('Tom', 1.4375), ('Quanlai Li', 1.5), ('Shu Zhou', 0.7175), ('Liy', 1.5), ('Lucas Li', 0.65625), ('Yingjie Ma', 1.25), ('Di An', -0.1875), ('Guxin Jin', 0.1725)]\n",
      "\n",
      "38.16\tDi An\n",
      "33.97\tGuxin Jin\n",
      "31.13\tLucas Li\n",
      "28.73\tChen Meng\n",
      "26.54\tShu Zhou\n"
     ]
    }
   ],
   "source": [
    "from rating import Game, print_top_k_rating, print_top_k_income\n",
    "\n",
    "# 2019-08-23\n",
    "Game({\"Guxin Jin\": 66.2,\n",
    "      \"Di An\": 95,\n",
    "      \"Lucas Li\": 27.5,\n",
    "      \"Brian\": -49,\n",
    "      \"Liy\": -40,\n",
    "      \"Tom\": -35,\n",
    "      \"Abby Deng\": -62,\n",
    "      \"Quanlai Li\": -40,\n",
    "      \"Shu Zhou\": 22.6,\n",
    "      \"Yingjie Ma\": -20,\n",
    "      \"Chen Meng\": 24.7})\n",
    "\n",
    "print_top_k_rating(5)"
   ]
  },
  {
   "cell_type": "code",
   "execution_count": 2,
   "metadata": {},
   "outputs": [
    {
     "name": "stdout",
     "output_type": "stream",
     "text": [
      "New player: Shengke Zhou\n",
      "New player: Po Choi\n",
      "[('Tom', 1.0825), ('Shengke Zhou', 1.3975), ('Lucas Li', 0.65), ('Po Choi', 1.25), ('Yingjie Ma', 0.78), ('Quanlai Li', 0.5), ('Guxin Jin', 1.41875), ('Shu Zhou', 0.75), ('Abby Deng', 1.17375), ('Di An', 1.0)]\n",
      "\n",
      "32.39\tLucas Li\n",
      "30.60\tDi An\n",
      "29.00\tQuanlai Li\n",
      "28.85\tShu Zhou\n",
      "28.73\tChen Meng (absent: 1)\n"
     ]
    }
   ],
   "source": [
    "# 2019-08-30\n",
    "Game({\"Shu Zhou\": 20,\n",
    "      \"Guxin Jin\": -33.5,\n",
    "      \"Shengke Zhou\": -31.8,\n",
    "      \"Quanlai Li\": 40,\n",
    "      \"Po Choi\": -20,\n",
    "      \"Abby Deng\": -13.9,\n",
    "      \"Yingjie Ma\": 17.6,\n",
    "      \"Di An\": 0,\n",
    "      \"Tom\": -6.6,\n",
    "      \"Lucas Li\": 28})\n",
    "\n",
    "print_top_k_rating(5)"
   ]
  },
  {
   "cell_type": "code",
   "execution_count": 3,
   "metadata": {},
   "outputs": [
    {
     "name": "stdout",
     "output_type": "stream",
     "text": [
      "New player: Xue Zhou\n",
      "New player: Peter Zhou\n",
      "New player: Jianfeng Guo\n",
      "New player: Lei Qi\n",
      "[('Xue Zhou', 0.7875), ('Shengke Zhou', 0.8825), ('Lucas Li', 2.0), ('Peter Zhou', 0.8625), ('Jianfeng Guo', 0.64), ('Chen Meng', 1.5125), ('Guxin Jin', 1.645), ('Shu Zhou', -0.11999999999999988), ('Lei Qi', 0.665), ('Di An', 1.0)]\n",
      "\n",
      "33.66\tJianfeng Guo\n",
      "32.93\tShu Zhou\n",
      "31.53\tLei Qi\n",
      "29.64\tXue Zhou\n",
      "29.00\tQuanlai Li (absent: 1)\n"
     ]
    }
   ],
   "source": [
    "# 2019-09-06\n",
    "Game({\n",
    "    \"Guxin Jin\": -51.6,\n",
    "    \"Lucas Li\": -80,\n",
    "    \"Chen Meng\": -41,\n",
    "    \"Shu Zhou\": 89.6,\n",
    "    \"Jianfeng Guo\": 28.8,\n",
    "    \"Xue Zhou\": 17,\n",
    "    \"Shengke Zhou\": 9.4,\n",
    "    \"Lei Qi\": 26.8,\n",
    "    \"Peter Zhou\": 11,\n",
    "    \"Di An\": 0    \n",
    "})\n",
    "\n",
    "print_top_k_rating(5)"
   ]
  },
  {
   "cell_type": "code",
   "execution_count": 4,
   "metadata": {},
   "outputs": [
    {
     "name": "stdout",
     "output_type": "stream",
     "text": [
      "New player: ZYR\n",
      "New player: Xueqing Zhang\n",
      "New player: Chaofeng Zhou\n",
      "[('Abby Deng', 0.395), ('Lei Qi', 1.1575), ('ZYR', 0.94375), ('Quanlai Li', 1.32625), ('Shu Zhou', 1.1575), ('Lucas Li', 0.6475), ('Xueqing Zhang', 1.0775), ('Chaofeng Zhou', 1.25), ('Di An', 0.785), ('Shengke Zhou', 1.08125), ('Jianfeng Guo', 1.5), ('Guxin Jin', 0.9275)]\n",
      "\n",
      "29.83\tShu Zhou\n",
      "29.64\tXue Zhou (absent: 1)\n",
      "29.05\tDi An\n",
      "28.53\tLucas Li\n",
      "27.88\tPeter Zhou (absent: 1)\n"
     ]
    }
   ],
   "source": [
    "# 2019-09-13\n",
    "Game({\n",
    "    \"Abby Deng\": 48.4,\n",
    "    \"Lucas Li\": 28.2,\n",
    "    \"Di An\": 17.2,\n",
    "    \"Guxin Jin\": 5.8,\n",
    "    \"Jianfeng Guo\": -40,\n",
    "    \"Shu Zhou\": -12.6,\n",
    "    \"Xueqing Zhang\": -6.2,\n",
    "    \"Quanlai Li\": -26.1,\n",
    "    \"Chaofeng Zhou\": -20,\n",
    "    \"Lei Qi\": -12.6,\n",
    "    \"Shengke Zhou\": -6.5,\n",
    "    \"ZYR\": 4.5\n",
    "})\n",
    "\n",
    "print_top_k_rating(5)"
   ]
  },
  {
   "cell_type": "code",
   "execution_count": 5,
   "metadata": {},
   "outputs": [
    {
     "name": "stdout",
     "output_type": "stream",
     "text": [
      "New player: William Tang\n",
      "New player: Yuan Zhuang\n",
      "New player: Ellen\n",
      "New player: Xiner\n",
      "[('Chen Meng', -0.11999999999999988), ('Xue Zhou', 1.6875), ('William Tang', 1.275), ('Yuan Zhuang', 1.05), ('Ellen', 1.5), ('Tom', 0.38749999999999996), ('Quanlai Li', 2.0), ('Lucas Li', 1.25), ('Yingjie Ma', 0.54), ('Chaofeng Zhou', 0.3025), ('Xiner', 1.1175), ('Guxin Jin', 0.6475)]\n",
      "\n",
      "29.83\tShu Zhou (absent: 1)\n",
      "29.56\tChen Meng\n",
      "29.05\tDi An (absent: 1)\n",
      "27.88\tPeter Zhou (absent: 2)\n",
      "27.54\tYingjie Ma\n"
     ]
    }
   ],
   "source": [
    "# 2019-09-20\n",
    "Game({\n",
    "    \"Tom\": 49,\n",
    "    \"William Tang\": -22,\n",
    "    \"Ellen\": -40,\n",
    "    \"Yuan Zhuang\": -4,\n",
    "    \"Quanlai Li\": -80,\n",
    "    \"Xiner\": -9.4,\n",
    "    \"Chen Meng\": 89.6,\n",
    "    \"Chaofeng Zhou\": 55.8,\n",
    "    \"Yingjie Ma\": 36.8,\n",
    "    \"Guxin Jin\": 28.2,\n",
    "    \"Xue Zhou\": -55,\n",
    "    \"Lucas Li\": -20\n",
    "})\n",
    "\n",
    "print_top_k_rating(5)"
   ]
  },
  {
   "cell_type": "code",
   "execution_count": 6,
   "metadata": {},
   "outputs": [
    {
     "name": "stdout",
     "output_type": "stream",
     "text": [
      "New player: Lin Zhou\n",
      "New player: Di Zhu\n",
      "New player: Roc\n",
      "[('Lin Zhou', 0.71), ('Xue Zhou', 1.035), ('Di Zhu', 1.2125), ('Tom', 1.295), ('Lucas Li', 1.9837500000000001), ('Yingjie Ma', 1.5225), ('Roc', 2.0), ('Chaofeng Zhou', -1.505), ('Di An', 1.53), ('Shengke Zhou', 0.6325000000000001), ('Guxin Jin', 0.8875)]\n",
      "\n",
      "30.71\tChaofeng Zhou\n",
      "29.86\tLin Zhou\n",
      "29.83\tShu Zhou (absent: 2)\n",
      "29.56\tChen Meng (absent: 1)\n",
      "27.88\tPeter Zhou (absent: 3)\n"
     ]
    }
   ],
   "source": [
    "# 2019-09-27\n",
    "Game({\n",
    "    \"Shengke Zhou\": 29.4,\n",
    "    \"Tom\": -23.6,\n",
    "    \"Di Zhu\": -17,\n",
    "    \"Di An\": -42.4,\n",
    "    \"Yingjie Ma\": -41.8,\n",
    "    \"Xue Zhou\": -2.8,\n",
    "    \"Roc\": -80,\n",
    "    \"Lucas Li\": -78.7,\n",
    "    \"Guxin Jin\": 9,\n",
    "    \"Chaofeng Zhou\": 200.4,\n",
    "    \"Lin Zhou\": 23.2\n",
    "})\n",
    "\n",
    "print_top_k_rating(5)"
   ]
  },
  {
   "cell_type": "code",
   "execution_count": 7,
   "metadata": {},
   "outputs": [
    {
     "name": "stdout",
     "output_type": "stream",
     "text": [
      "New player: Gilbert\n",
      "New player: Xin Qiu\n",
      "[('Lucas Li', 2.0), ('Peter Zhou', 0.845), ('Yingjie Ma', 1.1825), ('Chen Meng', 0.022499999999999964), ('Jianfeng Guo', 0.8775), ('Chaofeng Zhou', 2.5), ('Di An', 2.5), ('Xiner', 0.47750000000000004), ('Yuan Zhuang', 0.935), ('Shengke Zhou', -0.8475000000000001), ('Quanlai Li', 1.315), ('Tom', 1.685), ('Gilbert', 0.0), ('Guxin Jin', 1.07), ('Shu Zhou', 0.925), ('Xin Qiu', 0.4525)]\n",
      "\n",
      "35.07\tGilbert\n",
      "32.09\tXin Qiu\n",
      "31.48\tChen Meng\n",
      "29.86\tLin Zhou (absent: 1)\n",
      "29.61\tShengke Zhou\n"
     ]
    }
   ],
   "source": [
    "# 2019-10-04\n",
    "shengke_zhou = \"Shengke Zhou\"\n",
    "chaofeng_zhou = \"Chaofeng Zhou\"\n",
    "tom = \"Tom\"\n",
    "jianfeng_guo = \"Jianfeng Guo\"\n",
    "di_an = \"Di An\"\n",
    "yuan_zhuang = \"Yuan Zhuang\"\n",
    "xin_qiu = \"Xin Qiu\"\n",
    "chen_meng = \"Chen Meng\"\n",
    "lucas_li = \"Lucas Li\"\n",
    "guxin_jin = \"Guxin Jin\"\n",
    "yingjie_ma = \"Yingjie Ma\"\n",
    "shu_zhou = \"Shu Zhou\"\n",
    "peter_zhou = \"Peter Zhou\"\n",
    "xiner = \"Xiner\"\n",
    "gilbert = \"Gilbert\"\n",
    "quanlai_li = \"Quanlai Li\"\n",
    "\n",
    "Game({\n",
    "    shengke_zhou: 147.8,\n",
    "    chaofeng_zhou: -120,\n",
    "    tom: -54.8,\n",
    "    jianfeng_guo: 9.8,\n",
    "    di_an: -120,\n",
    "    yuan_zhuang: 5.2,\n",
    "    xin_qiu: 43.8,\n",
    "    chen_meng: 78.2,\n",
    "    lucas_li: -80,\n",
    "    guxin_jin: -5.6,\n",
    "    yingjie_ma: -14.6,\n",
    "    shu_zhou: 6,\n",
    "    peter_zhou: 12.4,\n",
    "    xiner: 41.8,\n",
    "    gilbert: 80,\n",
    "    quanlai_li: -25.2\n",
    "})\n",
    "\n",
    "print_top_k_rating(5)"
   ]
  },
  {
   "cell_type": "code",
   "execution_count": 8,
   "metadata": {},
   "outputs": [
    {
     "name": "stdout",
     "output_type": "stream",
     "text": [
      "New player: Ellen Wei\n",
      "New player: Affab Hafreez\n",
      "New player: Samuel\n",
      "New player: Zhongtian Jiang\n",
      "[('Ellen Wei', 0.8574999999999999), ('Affab Hafreez', 1.2275), ('Lucas Li', 1.0675), ('Yingjie Ma', 1.0525), ('Chen Meng', -0.11750000000000016), ('Samuel', 1.3725), ('Lei Qi', 1.3375), ('Xue Zhou', 1.8875), ('William Tang', 0.4), ('Shengke Zhou', -0.49), ('Chaofeng Zhou', 1.495), ('Tom', 0.9525), ('Quanlai Li', 1.9525000000000001), ('Guxin Jin', 0.8975), ('Shu Zhou', 0.27249999999999996), ('Xin Qiu', 1.0), ('Zhongtian Jiang', 1.7650000000000001)]\n",
      "\n",
      "35.07\tGilbert (absent: 1)\n",
      "32.80\tChen Meng\n",
      "31.64\tShengke Zhou\n",
      "30.46\tShu Zhou\n",
      "30.02\tEllen Wei\n",
      "29.86\tLin Zhou (absent: 2)\n",
      "29.71\tXin Qiu\n",
      "29.35\tPeter Zhou (absent: 1)\n",
      "28.17\tXiner (absent: 1)\n",
      "27.32\tZYR (absent: 4)\n"
     ]
    }
   ],
   "source": [
    "# 2019-10-11\n",
    "\n",
    "lei_qi = \"Lei Qi\"\n",
    "xue_zhou = \"Xue Zhou\"\n",
    "zhongtian_jiang = \"Zhongtian Jiang\"\n",
    "william_tang = \"William Tang\"\n",
    "ellen_wei = \"Ellen Wei\"\n",
    "\n",
    "Game({\n",
    "    lei_qi: -27,\n",
    "    shengke_zhou: 119.2,\n",
    "    \"Affab Hafreez\": -18.2,\n",
    "    quanlai_li: -76.2,\n",
    "    zhongtian_jiang: -61.2,\n",
    "    guxin_jin: 8.2,\n",
    "    shu_zhou: 58.2,\n",
    "    xin_qiu: 0,\n",
    "    lucas_li: -5.4,\n",
    "    chen_meng: 89.4,\n",
    "    william_tang: 48,\n",
    "    yingjie_ma: -4.2,\n",
    "    xue_zhou: -71,\n",
    "    chaofeng_zhou: -39.6,\n",
    "    \"Samuel\": -29.8,\n",
    "    tom: 3.8,\n",
    "    ellen_wei: 11.4\n",
    "})\n",
    "\n",
    "print_top_k_rating(10)"
   ]
  },
  {
   "cell_type": "code",
   "execution_count": 9,
   "metadata": {},
   "outputs": [
    {
     "name": "stdout",
     "output_type": "stream",
     "text": [
      "\n",
      "35.07\tGilbert (absent: 1)\n",
      "32.80\tChen Meng\n",
      "31.64\tShengke Zhou\n",
      "30.46\tShu Zhou\n",
      "30.02\tEllen Wei\n",
      "29.86\tLin Zhou (absent: 2)\n",
      "29.71\tXin Qiu\n",
      "29.35\tPeter Zhou (absent: 1)\n",
      "28.17\tXiner (absent: 1)\n",
      "27.32\tZYR (absent: 4)\n",
      "27.11\tWilliam Tang\n",
      "26.59\tJianfeng Guo (absent: 1)\n",
      "26.42\tGuxin Jin\n",
      "26.12\tXueqing Zhang (absent: 4)\n",
      "26.06\tYuan Zhuang (absent: 1)\n",
      "25.89\tAbby Deng (absent: 4)\n",
      "25.70\tDi Zhu (absent: 2)\n",
      "25.56\tYingjie Ma\n",
      "25.25\tLei Qi\n",
      "25.23\tTom\n",
      "24.90\tChaofeng Zhou\n",
      "24.86\tDi An (absent: 1)\n",
      "24.05\tLucas Li\n",
      "23.42\tAffab Hafreez\n",
      "21.96\tXue Zhou\n",
      "21.15\tSamuel\n",
      "20.14\tEllen (absent: 3)\n",
      "20.07\tPo Choi (absent: 6)\n",
      "20.05\tLiy (absent: 7)\n",
      "19.70\tQuanlai Li\n",
      "18.55\tZhongtian Jiang\n",
      "17.05\tBrian (absent: 7)\n",
      "14.86\tRoc (absent: 2)\n"
     ]
    }
   ],
   "source": [
    "print_top_k_rating()"
   ]
  },
  {
   "cell_type": "code",
   "execution_count": null,
   "metadata": {},
   "outputs": [],
   "source": []
  }
 ],
 "metadata": {
  "kernelspec": {
   "display_name": "Python 2",
   "language": "python",
   "name": "python2"
  },
  "language_info": {
   "codemirror_mode": {
    "name": "ipython",
    "version": 2
   },
   "file_extension": ".py",
   "mimetype": "text/x-python",
   "name": "python",
   "nbconvert_exporter": "python",
   "pygments_lexer": "ipython2",
   "version": "2.7.16"
  }
 },
 "nbformat": 4,
 "nbformat_minor": 2
}
