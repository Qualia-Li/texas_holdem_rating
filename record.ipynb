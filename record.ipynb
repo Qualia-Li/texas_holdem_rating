{
 "cells": [
  {
   "cell_type": "code",
   "execution_count": 1,
   "metadata": {},
   "outputs": [
    {
     "name": "stdout",
     "output_type": "stream",
     "text": [
      "New player: Abby Deng\n",
      "New player: Chen Meng\n",
      "New player: Brian\n",
      "New player: Tom\n",
      "New player: Quanlai Li\n",
      "New player: Shu Zhou\n",
      "New player: Liy\n",
      "New player: Lucas Li\n",
      "New player: Yingjie Ma\n",
      "New player: Di An\n",
      "New player: Guxin Jin\n",
      "\n",
      "Money won: 236.00\n",
      "Money lost: 246.00\n",
      "\n",
      "Rating\tSigma\tName\n",
      "2198.21\t342.22\tDi An\n",
      "1960.54\t302.49\tGuxin Jin\n",
      "1808.65\t288.99\tLucas Li\n",
      "1686.18\t282.60\tChen Meng\n",
      "1576.55\t279.43\tShu Zhou\n"
     ]
    }
   ],
   "source": [
    "from rating import Game, print_top_k_rating, print_top_k_income\n",
    "\n",
    "# 2019-08-23\n",
    "Game({\"Guxin Jin\": 66.2,\n",
    "      \"Di An\": 95,\n",
    "      \"Lucas Li\": 27.5,\n",
    "      \"Brian\": -49,\n",
    "      \"Liy\": -40,\n",
    "      \"Tom\": -35,\n",
    "      \"Abby Deng\": -62,\n",
    "      \"Quanlai Li\": -40,\n",
    "      \"Shu Zhou\": 22.6,\n",
    "      \"Yingjie Ma\": -20,\n",
    "      \"Chen Meng\": 24.7})\n",
    "\n",
    "print_top_k_rating(5)"
   ]
  },
  {
   "cell_type": "code",
   "execution_count": 2,
   "metadata": {},
   "outputs": [
    {
     "name": "stdout",
     "output_type": "stream",
     "text": [
      "New player: Shengke Zhou\n",
      "New player: Po Choi\n",
      "\n",
      "Money won: 105.60\n",
      "Money lost: 105.80\n",
      "\n",
      "Rating\tSigma\tName\n",
      "1870.29\t215.09\tLucas Li\n",
      "1790.87\t227.69\tDi An\n",
      "1708.29\t219.80\tQuanlai Li\n",
      "1690.94\t207.70\tShu Zhou\n",
      "1686.18\t282.60\tChen Meng (absent: 1)\n"
     ]
    }
   ],
   "source": [
    "# 2019-08-30\n",
    "Game({\"Shu Zhou\": 20,\n",
    "      \"Guxin Jin\": -33.5,\n",
    "      \"Shengke Zhou\": -31.8,\n",
    "      \"Quanlai Li\": 40,\n",
    "      \"Po Choi\": -20,\n",
    "      \"Abby Deng\": -13.9,\n",
    "      \"Yingjie Ma\": 17.6,\n",
    "      \"Di An\": 0,\n",
    "      \"Tom\": -6.6,\n",
    "      \"Lucas Li\": 28})\n",
    "\n",
    "print_top_k_rating(5)"
   ]
  },
  {
   "cell_type": "code",
   "execution_count": 3,
   "metadata": {},
   "outputs": [
    {
     "name": "stdout",
     "output_type": "stream",
     "text": [
      "New player: Xue Zhou\n",
      "New player: Peter Zhou\n",
      "New player: Jianfeng Guo\n",
      "New player: Lei Qi\n",
      "\n",
      "Money won: 182.60\n",
      "Money lost: 172.60\n",
      "\n",
      "Rating\tSigma\tName\n",
      "1920.39\t272.50\tJianfeng Guo\n",
      "1899.40\t182.17\tShu Zhou\n",
      "1811.05\t266.30\tLei Qi\n",
      "1717.55\t261.71\tXue Zhou\n",
      "1708.29\t219.80\tQuanlai Li (absent: 1)\n"
     ]
    }
   ],
   "source": [
    "# 2019-09-06\n",
    "Game({\n",
    "    \"Guxin Jin\": -51.6,\n",
    "    \"Lucas Li\": -80,\n",
    "    \"Chen Meng\": -41,\n",
    "    \"Shu Zhou\": 89.6,\n",
    "    \"Jianfeng Guo\": 28.8,\n",
    "    \"Xue Zhou\": 17,\n",
    "    \"Shengke Zhou\": 9.4,\n",
    "    \"Lei Qi\": 26.8,\n",
    "    \"Peter Zhou\": 11,\n",
    "    \"Di An\": 0    \n",
    "})\n",
    "\n",
    "print_top_k_rating(5)"
   ]
  },
  {
   "cell_type": "code",
   "execution_count": 4,
   "metadata": {},
   "outputs": [
    {
     "name": "stdout",
     "output_type": "stream",
     "text": [
      "New player: ZYR\n",
      "New player: Xueqing Zhang\n",
      "New player: Chaofeng Zhou\n",
      "\n",
      "Money won: 104.10\n",
      "Money lost: 124.00\n",
      "\n",
      "Rating\tSigma\tName\n",
      "1746.52\t153.14\tShu Zhou\n",
      "1717.55\t261.71\tXue Zhou (absent: 1)\n",
      "1694.26\t153.43\tDi An\n",
      "1662.77\t154.31\tLucas Li\n",
      "1632.88\t257.93\tPeter Zhou (absent: 1)\n"
     ]
    }
   ],
   "source": [
    "# 2019-09-13\n",
    "Game({\n",
    "    \"Abby Deng\": 48.4,\n",
    "    \"Lucas Li\": 28.2,\n",
    "    \"Di An\": 17.2,\n",
    "    \"Guxin Jin\": 5.8,\n",
    "    \"Jianfeng Guo\": -40,\n",
    "    \"Shu Zhou\": -12.6,\n",
    "    \"Xueqing Zhang\": -6.2,\n",
    "    \"Quanlai Li\": -26.1,\n",
    "    \"Chaofeng Zhou\": -20,\n",
    "    \"Lei Qi\": -12.6,\n",
    "    \"Shengke Zhou\": -6.5,\n",
    "    \"ZYR\": 4.5\n",
    "})\n",
    "\n",
    "print_top_k_rating(5)"
   ]
  },
  {
   "cell_type": "code",
   "execution_count": 5,
   "metadata": {},
   "outputs": [
    {
     "name": "stdout",
     "output_type": "stream",
     "text": [
      "New player: William Tang\n",
      "New player: Yuan Zhuang\n",
      "New player: Ellen\n",
      "New player: Xiner\n",
      "\n",
      "Money won: 259.40\n",
      "Money lost: 230.40\n",
      "\n",
      "Rating\tSigma\tName\n",
      "1746.52\t153.14\tShu Zhou (absent: 1)\n",
      "1726.19\t176.30\tChen Meng\n",
      "1694.26\t153.43\tDi An (absent: 1)\n",
      "1632.88\t257.93\tPeter Zhou (absent: 2)\n",
      "1623.79\t193.31\tLei Qi (absent: 1)\n"
     ]
    }
   ],
   "source": [
    "# 2019-09-20\n",
    "Game({\n",
    "    \"Tom\": 49,\n",
    "    \"William Tang\": -22,\n",
    "    \"Ellen\": -40,\n",
    "    \"Yuan Zhuang\": -4,\n",
    "    \"Quanlai Li\": -80,\n",
    "    \"Xiner\": -9.4,\n",
    "    \"Chen Meng\": 89.6,\n",
    "    \"Chaofeng Zhou\": 55.8,\n",
    "    \"Yingjie Ma\": 36.8,\n",
    "    \"Guxin Jin\": 28.2,\n",
    "    \"Xue Zhou\": -55,\n",
    "    \"Lucas Li\": -20\n",
    "})\n",
    "\n",
    "print_top_k_rating(5)"
   ]
  },
  {
   "cell_type": "code",
   "execution_count": 6,
   "metadata": {},
   "outputs": [
    {
     "name": "stdout",
     "output_type": "stream",
     "text": [
      "New player: Lin Zhou\n",
      "New player: Di Zhu\n",
      "New player: Roc\n",
      "\n",
      "Money won: 262.00\n",
      "Money lost: 286.30\n",
      "\n",
      "Rating\tSigma\tName\n",
      "1781.94\t167.13\tChaofeng Zhou\n",
      "1746.52\t153.14\tShu Zhou (absent: 2)\n",
      "1726.19\t176.30\tChen Meng (absent: 1)\n",
      "1715.93\t248.80\tLin Zhou\n",
      "1632.88\t257.93\tPeter Zhou (absent: 3)\n"
     ]
    }
   ],
   "source": [
    "# 2019-09-27\n",
    "Game({\n",
    "    \"Shengke Zhou\": 29.4,\n",
    "    \"Tom\": -23.6,\n",
    "    \"Di Zhu\": -17,\n",
    "    \"Di An\": -42.4,\n",
    "    \"Yingjie Ma\": -41.8,\n",
    "    \"Xue Zhou\": -2.8,\n",
    "    \"Roc\": -80,\n",
    "    \"Lucas Li\": -78.7,\n",
    "    \"Guxin Jin\": 9,\n",
    "    \"Chaofeng Zhou\": 200.4,\n",
    "    \"Lin Zhou\": 23.2\n",
    "})\n",
    "\n",
    "print_top_k_rating(5)"
   ]
  },
  {
   "cell_type": "code",
   "execution_count": 7,
   "metadata": {},
   "outputs": [
    {
     "name": "stdout",
     "output_type": "stream",
     "text": [
      "New player: Gilbert\n",
      "New player: Xin Qiu\n",
      "\n",
      "Money won: 425.00\n",
      "Money lost: 420.20\n",
      "\n",
      "Rating\tSigma\tName\n",
      "1941.72\t252.52\tGilbert\n",
      "1801.19\t150.38\tChen Meng\n",
      "1797.73\t243.81\tXin Qiu\n",
      "1717.11\t131.67\tShengke Zhou\n",
      "1715.93\t248.80\tLin Zhou (absent: 1)\n"
     ]
    }
   ],
   "source": [
    "# 2019-10-04\n",
    "shengke_zhou = \"Shengke Zhou\"\n",
    "chaofeng_zhou = \"Chaofeng Zhou\"\n",
    "tom = \"Tom\"\n",
    "jianfeng_guo = \"Jianfeng Guo\"\n",
    "di_an = \"Di An\"\n",
    "yuan_zhuang = \"Yuan Zhuang\"\n",
    "xin_qiu = \"Xin Qiu\"\n",
    "chen_meng = \"Chen Meng\"\n",
    "lucas_li = \"Lucas Li\"\n",
    "guxin_jin = \"Guxin Jin\"\n",
    "yingjie_ma = \"Yingjie Ma\"\n",
    "shu_zhou = \"Shu Zhou\"\n",
    "peter_zhou = \"Peter Zhou\"\n",
    "xiner = \"Xiner\"\n",
    "gilbert = \"Gilbert\"\n",
    "quanlai_li = \"Quanlai Li\"\n",
    "\n",
    "Game({\n",
    "    shengke_zhou: 147.8,\n",
    "    chaofeng_zhou: -120,\n",
    "    tom: -54.8,\n",
    "    jianfeng_guo: 9.8,\n",
    "    di_an: -120,\n",
    "    yuan_zhuang: 5.2,\n",
    "    xin_qiu: 43.8,\n",
    "    chen_meng: 78.2,\n",
    "    lucas_li: -80,\n",
    "    guxin_jin: -5.6,\n",
    "    yingjie_ma: -14.6,\n",
    "    shu_zhou: 6,\n",
    "    peter_zhou: 12.4,\n",
    "    xiner: 41.8,\n",
    "    gilbert: 80,\n",
    "    quanlai_li: -25.2\n",
    "})\n",
    "\n",
    "print_top_k_rating(5)"
   ]
  },
  {
   "cell_type": "code",
   "execution_count": 8,
   "metadata": {},
   "outputs": [
    {
     "name": "stdout",
     "output_type": "stream",
     "text": [
      "New player: Ellen Wei\n",
      "New player: Affab Hafreez\n",
      "New player: Samuel\n",
      "New player: Zhongtian Jiang\n",
      "\n",
      "Money won: 338.20\n",
      "Money lost: 332.60\n",
      "\n",
      "Rating\tSigma\tName\n",
      "1941.72\t252.52\tGilbert (absent: 1)\n",
      "1857.77\t133.76\tChen Meng\n",
      "1814.09\t122.03\tShengke Zhou\n",
      "1757.03\t120.79\tShu Zhou\n",
      "1715.93\t248.80\tLin Zhou (absent: 2)\n",
      "1706.33\t239.65\tEllen Wei\n",
      "1698.01\t181.15\tXin Qiu\n",
      "1687.19\t187.94\tPeter Zhou (absent: 1)\n",
      "1634.88\t184.11\tXiner (absent: 1)\n",
      "1605.11\t244.06\tZYR (absent: 4)\n"
     ]
    }
   ],
   "source": [
    "# 2019-10-11\n",
    "\n",
    "lei_qi = \"Lei Qi\"\n",
    "xue_zhou = \"Xue Zhou\"\n",
    "zhongtian_jiang = \"Zhongtian Jiang\"\n",
    "william_tang = \"William Tang\"\n",
    "ellen_wei = \"Ellen Wei\"\n",
    "\n",
    "Game({\n",
    "    lei_qi: -27,\n",
    "    shengke_zhou: 119.2,\n",
    "    \"Affab Hafreez\": -18.2,\n",
    "    quanlai_li: -76.2,\n",
    "    zhongtian_jiang: -61.2,\n",
    "    guxin_jin: 8.2,\n",
    "    shu_zhou: 58.2,\n",
    "    xin_qiu: 0,\n",
    "    lucas_li: -5.4,\n",
    "    chen_meng: 89.4,\n",
    "    william_tang: 48,\n",
    "    yingjie_ma: -4.2,\n",
    "    xue_zhou: -71,\n",
    "    chaofeng_zhou: -39.6,\n",
    "    \"Samuel\": -29.8,\n",
    "    tom: 3.8,\n",
    "    ellen_wei: 11.4\n",
    "})\n",
    "\n",
    "print_top_k_rating(10)"
   ]
  },
  {
   "cell_type": "code",
   "execution_count": 17,
   "metadata": {},
   "outputs": [
    {
     "name": "stdout",
     "output_type": "stream",
     "text": [
      "New player: Yunke Tang\n",
      "New player: Ziru Liu\n",
      "New player: Yi Mao\n",
      "\n",
      "Money won: 307.90\n",
      "Money lost: 385.30\n",
      "\n",
      "Rating\tSigma\tName\n",
      "1941.72\t252.52\tGilbert (absent: 2)\n",
      "1796.00\t111.34\tShengke Zhou\n",
      "1723.98\t120.44\tChen Meng\n",
      "1715.93\t248.80\tLin Zhou (absent: 3)\n",
      "1706.33\t239.65\tEllen Wei (absent: 1)\n",
      "1687.19\t187.94\tPeter Zhou (absent: 2)\n",
      "1687.16\t150.44\tXin Qiu\n",
      "1644.84\t111.51\tShu Zhou\n",
      "1634.88\t184.11\tXiner (absent: 2)\n",
      "1625.97\t151.24\tYuan Zhuang\n"
     ]
    }
   ],
   "source": [
    "# 2019-10-11\n",
    "\n",
    "di_an = \"Di An\"\n",
    "yunke_tang = \"Yunke Tang\"\n",
    "ziru_liu = \"Ziru Liu\"\n",
    "\n",
    "Game({\n",
    "    \"Yi Mao\": -20,\n",
    "    shu_zhou: -69,\n",
    "    shengke_zhou: 29.2,\n",
    "    chaofeng_zhou: 56,\n",
    "    xin_qiu: 15.2,\n",
    "    xue_zhou: -29.8,\n",
    "    guxin_jin: 64.1,\n",
    "    ziru_liu: -120,\n",
    "    chen_meng: -56,\n",
    "    yuan_zhuang: 53.2,\n",
    "    di_an: -40,\n",
    "    quanlai_li: -22.8,\n",
    "    tom: 1,\n",
    "    yingjie_ma: -14.4,\n",
    "    yunke_tang: -13.3,\n",
    "    lucas_li: 89.2\n",
    "})\n",
    "\n",
    "print_top_k_rating(10)"
   ]
  },
  {
   "cell_type": "code",
   "execution_count": null,
   "metadata": {},
   "outputs": [],
   "source": []
  },
  {
   "cell_type": "code",
   "execution_count": null,
   "metadata": {},
   "outputs": [],
   "source": []
  }
 ],
 "metadata": {
  "kernelspec": {
   "display_name": "Python 2",
   "language": "python",
   "name": "python2"
  },
  "language_info": {
   "codemirror_mode": {
    "name": "ipython",
    "version": 2
   },
   "file_extension": ".py",
   "mimetype": "text/x-python",
   "name": "python",
   "nbconvert_exporter": "python",
   "pygments_lexer": "ipython2",
   "version": "2.7.16"
  }
 },
 "nbformat": 4,
 "nbformat_minor": 2
}
